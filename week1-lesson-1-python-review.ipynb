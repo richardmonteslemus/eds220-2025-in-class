{
 "cells": [
  {
   "cell_type": "markdown",
   "id": "d36d6ab3-3f00-4023-ba48-c0b203b4528d",
   "metadata": {},
   "source": [
    "# Python review \n",
    "\n",
    "Goals:\n",
    "- recall basic Python vocabulary \n",
    "- practice markdown \n",
    "\n",
    "## Libraries and packages \n",
    "**library** a collection of code we can use to perform specfic tasks in our programs. \n",
    "\n",
    "**Numpy**: \n",
    "- core library for numerical computing in Python \n",
    "- many other libraries use NumPy arrays as building blocks \n",
    "- computations on NumPy are optimized for speed and memory usage\n",
    "\n",
    "Let's import NumPy with **standard abbreviation** \n"
   ]
  },
  {
   "cell_type": "code",
   "execution_count": 1,
   "id": "2f34c858-bdde-4c52-aa10-c357e6c5465f",
   "metadata": {
    "tags": []
   },
   "outputs": [],
   "source": [
    "import numpy as np"
   ]
  },
  {
   "cell_type": "markdown",
   "id": "fc00ab9f-7603-4a36-a7bd-12c73f50a0ca",
   "metadata": {},
   "source": [
    "## Variables \n",
    "\n",
    "**variable**: a name we assign to a particular object in Python \n",
    "\n",
    "Example: "
   ]
  },
  {
   "cell_type": "code",
   "execution_count": 2,
   "id": "6ade377d-954c-4a82-92aa-a73b452d12b1",
   "metadata": {
    "tags": []
   },
   "outputs": [],
   "source": [
    "# Assign a small array to a variables a \n",
    "a = np.array([[1,2,2],[3,5,8]])\n"
   ]
  },
  {
   "cell_type": "code",
   "execution_count": 3,
   "id": "66ac0700-b9a9-4fbe-957c-1a5ce1da0dba",
   "metadata": {
    "tags": []
   },
   "outputs": [
    {
     "data": {
      "text/plain": [
       "array([[1, 2, 2],\n",
       "       [3, 5, 8]])"
      ]
     },
     "execution_count": 3,
     "metadata": {},
     "output_type": "execute_result"
    }
   ],
   "source": [
    "# Run cell with a variable name to show value\n",
    "a"
   ]
  },
  {
   "cell_type": "code",
   "execution_count": 4,
   "id": "c92fc9e2-c56c-4452-994e-eabcebf7dee6",
   "metadata": {
    "tags": []
   },
   "outputs": [
    {
     "name": "stdout",
     "output_type": "stream",
     "text": [
      "[[1 2 2]\n",
      " [3 5 8]]\n"
     ]
    }
   ],
   "source": [
    "# Use 'print' function to print the value \n",
    "print(a)"
   ]
  },
  {
   "cell_type": "markdown",
   "id": "9f4e0e59-0ff5-41f5-9b73-e73b7374d983",
   "metadata": {},
   "source": [
    "## Objects \n",
    "\n",
    "**object** (informally speaking) is a bundle of *properties* and *actions* about something specfic. \n",
    "\n",
    "Example: \n",
    "Object: data frame \n",
    "Properties: number of tows, names of the columns, date created \n",
    "Actions: Selecting a specific row, adding a new column\n",
    "\n",
    "A variable is the name we give a specific object, and the same object can be referenced by different variables. \n",
    "\n",
    "In practice, we can often use variables and object interchangeably. \n",
    "\n",
    "## Types\n",
    "\n",
    "Every object in Python has a type and the type tells us what kind of object it is. \n",
    "\n",
    "We can also call the type of an object, the **class** of an object and they both mean what kind of object we have. \n",
    "\n",
    "\n"
   ]
  },
  {
   "cell_type": "code",
   "execution_count": 7,
   "id": "554648c3-57e8-4c02-8252-1ba9fa12641d",
   "metadata": {},
   "outputs": [
    {
     "name": "stdout",
     "output_type": "stream",
     "text": [
      "[[1 2 2]\n",
      " [3 5 8]]\n"
     ]
    },
    {
     "data": {
      "text/plain": [
       "numpy.ndarray"
      ]
     },
     "execution_count": 7,
     "metadata": {},
     "output_type": "execute_result"
    }
   ],
   "source": [
    "print(a)\n",
    "\n",
    "# Check the type/class of a variable/object by using 'type' function\n",
    "type(a)"
   ]
  },
  {
   "cell_type": "code",
   "execution_count": 9,
   "id": "ae5c00a6-6e03-40fc-8848-45454858deed",
   "metadata": {
    "tags": []
   },
   "outputs": [
    {
     "name": "stdout",
     "output_type": "stream",
     "text": [
      "1\n"
     ]
    },
    {
     "data": {
      "text/plain": [
       "numpy.int64"
      ]
     },
     "execution_count": 9,
     "metadata": {},
     "output_type": "execute_result"
    }
   ],
   "source": [
    "print(a[0,0])\n",
    "\n",
    "# Check the type of an entry on the array by indexing \n",
    "type(a[0,0])"
   ]
  },
  {
   "cell_type": "markdown",
   "id": "5756b267-445e-435c-a3d5-c41d7634d6fd",
   "metadata": {},
   "source": [
    "Notice that `type(a[0,0])` is `numpy.int64'` and not just the standard Python integer type. This is telling us that 1 is the integer stored as 64-bit number.  "
   ]
  },
  {
   "cell_type": "code",
   "execution_count": 11,
   "id": "a3e69b92-74c5-4d08-936a-5acdcca8c262",
   "metadata": {
    "tags": []
   },
   "outputs": [
    {
     "data": {
      "text/plain": [
       "5"
      ]
     },
     "execution_count": 11,
     "metadata": {},
     "output_type": "execute_result"
    }
   ],
   "source": [
    "# Access number 5\n",
    "a[1,1]"
   ]
  },
  {
   "cell_type": "markdown",
   "id": "86791bda-f5c6-428c-8840-8c0368edcf82",
   "metadata": {},
   "source": [
    "## Functions\n",
    "\n",
    "`print` was out first example of a python **function**.\n",
    "\n",
    "Functions take in a set of **arguments** and those arguments create an **ouput**. \n",
    "\n",
    "argument = parameter \n",
    "we can ssk for info about a function through ?function. "
   ]
  },
  {
   "cell_type": "markdown",
   "id": "16df87a7-e64f-4286-89a5-58be5cb8ed95",
   "metadata": {},
   "source": [
    "This information is a **docstring**. "
   ]
  },
  {
   "cell_type": "code",
   "execution_count": 12,
   "id": "4db4716b-5f8a-4479-9cf5-94d74e652b27",
   "metadata": {
    "tags": []
   },
   "outputs": [
    {
     "data": {
      "text/plain": [
       "\u001b[0;31mSignature:\u001b[0m \u001b[0mprint\u001b[0m\u001b[0;34m(\u001b[0m\u001b[0;34m*\u001b[0m\u001b[0margs\u001b[0m\u001b[0;34m,\u001b[0m \u001b[0msep\u001b[0m\u001b[0;34m=\u001b[0m\u001b[0;34m' '\u001b[0m\u001b[0;34m,\u001b[0m \u001b[0mend\u001b[0m\u001b[0;34m=\u001b[0m\u001b[0;34m'\\n'\u001b[0m\u001b[0;34m,\u001b[0m \u001b[0mfile\u001b[0m\u001b[0;34m=\u001b[0m\u001b[0;32mNone\u001b[0m\u001b[0;34m,\u001b[0m \u001b[0mflush\u001b[0m\u001b[0;34m=\u001b[0m\u001b[0;32mFalse\u001b[0m\u001b[0;34m)\u001b[0m\u001b[0;34m\u001b[0m\u001b[0;34m\u001b[0m\u001b[0m\n",
       "\u001b[0;31mDocstring:\u001b[0m\n",
       "Prints the values to a stream, or to sys.stdout by default.\n",
       "\n",
       "sep\n",
       "  string inserted between values, default a space.\n",
       "end\n",
       "  string appended after the last value, default a newline.\n",
       "file\n",
       "  a file-like object (stream); defaults to the current sys.stdout.\n",
       "flush\n",
       "  whether to forcibly flush the stream.\n",
       "\u001b[0;31mType:\u001b[0m      builtin_function_or_method"
      ]
     },
     "metadata": {},
     "output_type": "display_data"
    }
   ],
   "source": [
    "?print"
   ]
  },
  {
   "cell_type": "markdown",
   "id": "6bb1a53c-83b0-4480-8fe6-294a6427c91c",
   "metadata": {},
   "source": [
    "This information is a **docstring**.\n",
    "\n",
    "A function has two types of arguments: \n",
    "- **non-optional argument**: arguments *your* need to speficiy for the function to do somehting \n",
    "\n",
    "-**optional arguments**: Arguments that are prefilled with a default value by the funciton. You can override them. Optional arguments appear inside he parenthesis in the form `optional_argument=default_value`. "
   ]
  },
  {
   "cell_type": "code",
   "execution_count": 13,
   "id": "6cb0392a-066a-477c-8d4d-64504d513ffa",
   "metadata": {
    "tags": []
   },
   "outputs": [
    {
     "name": "stdout",
     "output_type": "stream",
     "text": [
      "changing the default end argument:)"
     ]
    }
   ],
   "source": [
    "print('changing the default end argument', end=':)')"
   ]
  },
  {
   "cell_type": "markdown",
   "id": "15287991-1a00-486d-85a6-5f92ec17bf57",
   "metadata": {},
   "source": [
    "## Attributes and methods \n",
    "\n",
    "An object in python has attributes and methods. \n",
    "\n",
    "-**attributes**: A property of an object, soem pieces of information about it \n",
    "\n",
    "-**method**: a procedure assoiciated with an object \n",
    "\n",
    "## Check in \n",
    "\n",
    "Fish attributes: \n",
    "- length, color, species\n",
    "- die(), bite(), swim()\n",
    "\n",
    "**Example**\n",
    "Attributes for `numpy.arrays`\n",
    "\n",
    "We can access a variable's attributes and methods by adding a period `.` at the end of the variable's name. \n",
    "\n",
    "`variable.method()` or `variable.attribute`"
   ]
  },
  {
   "cell_type": "code",
   "execution_count": 15,
   "id": "91257a44-8414-476a-b3fc-60a7152746b7",
   "metadata": {
    "tags": []
   },
   "outputs": [
    {
     "data": {
      "text/plain": [
       "(2, 3)"
      ]
     },
     "execution_count": 15,
     "metadata": {},
     "output_type": "execute_result"
    }
   ],
   "source": [
    "a.shape"
   ]
  },
  {
   "cell_type": "code",
   "execution_count": 16,
   "id": "cb735e84-47e3-4e07-bd5e-9f2a181e97b1",
   "metadata": {
    "tags": []
   },
   "outputs": [
    {
     "data": {
      "text/plain": [
       "tuple"
      ]
     },
     "execution_count": 16,
     "metadata": {},
     "output_type": "execute_result"
    }
   ],
   "source": [
    "type(a.shape)"
   ]
  },
  {
   "cell_type": "code",
   "execution_count": 18,
   "id": "0e6ce4f7-adf6-4945-b9d3-317879308a63",
   "metadata": {
    "tags": []
   },
   "outputs": [
    {
     "data": {
      "text/plain": [
       "array([1, 2, 2])"
      ]
     },
     "execution_count": 18,
     "metadata": {},
     "output_type": "execute_result"
    }
   ],
   "source": [
    "# Methods examples \n",
    "# min() returns the minimum value along a specified axis\n",
    "a.min(axis=0)"
   ]
  },
  {
   "cell_type": "markdown",
   "id": "91cdb928-92f6-4a12-8595-fb6402c69329",
   "metadata": {},
   "source": [
    "# Check in\n",
    "\n",
    "We can also call the min method without any parameters "
   ]
  },
  {
   "cell_type": "code",
   "execution_count": 21,
   "id": "bf9f694c-9346-4447-b74c-0839109e0344",
   "metadata": {
    "tags": []
   },
   "outputs": [
    {
     "data": {
      "text/plain": [
       "1"
      ]
     },
     "execution_count": 21,
     "metadata": {},
     "output_type": "execute_result"
    }
   ],
   "source": [
    "a.min()\n",
    "# Optional parameter?"
   ]
  },
  {
   "cell_type": "code",
   "execution_count": 20,
   "id": "120578a1-2ea9-464b-829e-101066740f31",
   "metadata": {
    "tags": []
   },
   "outputs": [
    {
     "data": {
      "text/plain": [
       "array([[1, 2, 2],\n",
       "       [3, 5, 8]])"
      ]
     },
     "execution_count": 20,
     "metadata": {},
     "output_type": "execute_result"
    }
   ],
   "source": [
    "a"
   ]
  },
  {
   "cell_type": "markdown",
   "id": "7e76995d-51c4-45f4-a96d-dbfc015a6f4a",
   "metadata": {
    "tags": []
   },
   "source": [
    "Remember: methods are functions associated with object."
   ]
  },
  {
   "cell_type": "code",
   "execution_count": 23,
   "id": "4d67548e-827d-4766-83e9-029a4751cb65",
   "metadata": {
    "tags": []
   },
   "outputs": [
    {
     "data": {
      "text/plain": [
       "builtin_function_or_method"
      ]
     },
     "execution_count": 23,
     "metadata": {},
     "output_type": "execute_result"
    }
   ],
   "source": [
    "type(a.min)"
   ]
  },
  {
   "cell_type": "markdown",
   "id": "baa71c73-dd32-4438-bcaf-19cdb5c8cf91",
   "metadata": {},
   "source": [
    "## Exercise \n",
    "\n",
    "1. Read the `print` function help. What is the type of the argument `sep`? Is this an optional or non-optional argument? Why? \n",
    "\n",
    "2. Create two new variables, one with the integer value 77 and another one with the string 99. \n",
    "\n",
    "3. Use your variables to print `77%99%77` by chaning the value of one of the optional arguments in `print`."
   ]
  },
  {
   "cell_type": "code",
   "execution_count": 26,
   "id": "1ea283c2-4b5e-49b3-9e8e-41f1445576d4",
   "metadata": {
    "tags": []
   },
   "outputs": [
    {
     "data": {
      "text/plain": [
       "\u001b[0;31mSignature:\u001b[0m \u001b[0mprint\u001b[0m\u001b[0;34m(\u001b[0m\u001b[0;34m*\u001b[0m\u001b[0margs\u001b[0m\u001b[0;34m,\u001b[0m \u001b[0msep\u001b[0m\u001b[0;34m=\u001b[0m\u001b[0;34m' '\u001b[0m\u001b[0;34m,\u001b[0m \u001b[0mend\u001b[0m\u001b[0;34m=\u001b[0m\u001b[0;34m'\\n'\u001b[0m\u001b[0;34m,\u001b[0m \u001b[0mfile\u001b[0m\u001b[0;34m=\u001b[0m\u001b[0;32mNone\u001b[0m\u001b[0;34m,\u001b[0m \u001b[0mflush\u001b[0m\u001b[0;34m=\u001b[0m\u001b[0;32mFalse\u001b[0m\u001b[0;34m)\u001b[0m\u001b[0;34m\u001b[0m\u001b[0;34m\u001b[0m\u001b[0m\n",
       "\u001b[0;31mDocstring:\u001b[0m\n",
       "Prints the values to a stream, or to sys.stdout by default.\n",
       "\n",
       "sep\n",
       "  string inserted between values, default a space.\n",
       "end\n",
       "  string appended after the last value, default a newline.\n",
       "file\n",
       "  a file-like object (stream); defaults to the current sys.stdout.\n",
       "flush\n",
       "  whether to forcibly flush the stream.\n",
       "\u001b[0;31mType:\u001b[0m      builtin_function_or_method"
      ]
     },
     "metadata": {},
     "output_type": "display_data"
    }
   ],
   "source": [
    "?print"
   ]
  },
  {
   "cell_type": "markdown",
   "id": "af1465bf-7f5e-4733-984f-d7a7ab0f4207",
   "metadata": {},
   "source": [
    "sep: string between values is a space, it is optional"
   ]
  },
  {
   "cell_type": "code",
   "execution_count": 27,
   "id": "41af193c-ba98-42d9-b4df-6f07261b43ea",
   "metadata": {
    "tags": []
   },
   "outputs": [],
   "source": [
    "a = 77 \n",
    "b = 99"
   ]
  },
  {
   "cell_type": "code",
   "execution_count": 35,
   "id": "834eeb1e-969f-4744-94d8-9427e70d4271",
   "metadata": {
    "tags": []
   },
   "outputs": [
    {
     "name": "stdout",
     "output_type": "stream",
     "text": [
      "77%99%77\n"
     ]
    }
   ],
   "source": [
    "print(a,b,a, sep='%') \n",
    "# Optional argument"
   ]
  },
  {
   "cell_type": "code",
   "execution_count": null,
   "id": "d68e3e9b-32be-4d0c-9c34-44e16c32cf33",
   "metadata": {},
   "outputs": [],
   "source": []
  }
 ],
 "metadata": {
  "kernelspec": {
   "display_name": "EDS220",
   "language": "python",
   "name": "eds220-env"
  },
  "language_info": {
   "codemirror_mode": {
    "name": "ipython",
    "version": 3
   },
   "file_extension": ".py",
   "mimetype": "text/x-python",
   "name": "python",
   "nbconvert_exporter": "python",
   "pygments_lexer": "ipython3",
   "version": "3.11.4"
  }
 },
 "nbformat": 4,
 "nbformat_minor": 5
}
