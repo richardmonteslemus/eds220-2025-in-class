{
 "cells": [
  {
   "cell_type": "markdown",
   "id": "d36d6ab3-3f00-4023-ba48-c0b203b4528d",
   "metadata": {},
   "source": [
    "# Python review \n",
    "\n",
    "Goals:\n",
    "- recall basic Python vocabulary \n",
    "- practice markdown \n",
    "\n",
    "## Libraries and packages \n",
    "**library** a collection of code we can use to perform specfic tasks in our programs. \n",
    "\n",
    "**Numpy**: \n",
    "- core library for numerical computing in Python \n",
    "- many other libraries use NumPy arrays as building blocks \n",
    "- computations on NumPy are optimized for speed and memory usage\n",
    "\n",
    "Let's import NumPy with **standard abbreviation** \n"
   ]
  },
  {
   "cell_type": "code",
   "execution_count": 2,
   "id": "2f34c858-bdde-4c52-aa10-c357e6c5465f",
   "metadata": {
    "tags": []
   },
   "outputs": [],
   "source": [
    "import numpy as np"
   ]
  },
  {
   "cell_type": "markdown",
   "id": "fc00ab9f-7603-4a36-a7bd-12c73f50a0ca",
   "metadata": {},
   "source": [
    "## Variables \n",
    "\n",
    "**variable**: a name we assign to a particular object in Python \n",
    "\n",
    "Example: "
   ]
  },
  {
   "cell_type": "code",
   "execution_count": 4,
   "id": "6ade377d-954c-4a82-92aa-a73b452d12b1",
   "metadata": {
    "tags": []
   },
   "outputs": [],
   "source": [
    "# Assign a small array to a variables a \n",
    "a = np.array([[1,2,2],[3,5,8]])\n"
   ]
  },
  {
   "cell_type": "code",
   "execution_count": 6,
   "id": "66ac0700-b9a9-4fbe-957c-1a5ce1da0dba",
   "metadata": {
    "tags": []
   },
   "outputs": [
    {
     "data": {
      "text/plain": [
       "array([[1, 2, 2],\n",
       "       [3, 5, 8]])"
      ]
     },
     "execution_count": 6,
     "metadata": {},
     "output_type": "execute_result"
    }
   ],
   "source": [
    "# Run cell with a variable name to show value\n",
    "a"
   ]
  },
  {
   "cell_type": "code",
   "execution_count": 7,
   "id": "c92fc9e2-c56c-4452-994e-eabcebf7dee6",
   "metadata": {
    "tags": []
   },
   "outputs": [
    {
     "name": "stdout",
     "output_type": "stream",
     "text": [
      "[[1 2 2]\n",
      " [3 5 8]]\n"
     ]
    }
   ],
   "source": [
    "# Use 'print' function to print the value \n",
    "print(a)"
   ]
  },
  {
   "cell_type": "markdown",
   "id": "9f4e0e59-0ff5-41f5-9b73-e73b7374d983",
   "metadata": {},
   "source": [
    "## Objects \n",
    "\n",
    "**object** (informally speaking) is a bundle of *properties* and *actions* about something specfic. \n",
    "\n",
    "Example: \n",
    "Object: data frame \n",
    "Properties: number of tows, names of the columns, date created \n",
    "Actions: Selecting a specific row, adding a new column\n",
    "\n",
    "A variable is the name we give a specific object, and the same object can be referenced by different variables. \n",
    "\n",
    "In practice, we can often use variables and object interchangeably. \n"
   ]
  },
  {
   "cell_type": "code",
   "execution_count": null,
   "id": "554648c3-57e8-4c02-8252-1ba9fa12641d",
   "metadata": {},
   "outputs": [],
   "source": []
  }
 ],
 "metadata": {
  "kernelspec": {
   "display_name": "EDS220",
   "language": "python",
   "name": "eds220-env"
  },
  "language_info": {
   "codemirror_mode": {
    "name": "ipython",
    "version": 3
   },
   "file_extension": ".py",
   "mimetype": "text/x-python",
   "name": "python",
   "nbconvert_exporter": "python",
   "pygments_lexer": "ipython3",
   "version": "3.11.4"
  }
 },
 "nbformat": 4,
 "nbformat_minor": 5
}
