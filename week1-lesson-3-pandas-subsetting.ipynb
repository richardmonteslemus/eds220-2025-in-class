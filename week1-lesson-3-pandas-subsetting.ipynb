{
 "cells": [
  {
   "cell_type": "markdown",
   "id": "1eb51122-2416-449d-8f47-8f5b1dbfe862",
   "metadata": {},
   "source": [
    "# Subsetting \n",
    "\n",
    "Review core methods to select data from a 'pandas.DataFrame'\n",
    "\n",
    "## Read in CSV \n"
   ]
  },
  {
   "cell_type": "code",
   "execution_count": 3,
   "id": "1a38f0a5-20c0-4f79-b739-af5be33f7068",
   "metadata": {
    "tags": []
   },
   "outputs": [
    {
     "data": {
      "text/html": [
       "<div>\n",
       "<style scoped>\n",
       "    .dataframe tbody tr th:only-of-type {\n",
       "        vertical-align: middle;\n",
       "    }\n",
       "\n",
       "    .dataframe tbody tr th {\n",
       "        vertical-align: top;\n",
       "    }\n",
       "\n",
       "    .dataframe thead th {\n",
       "        text-align: right;\n",
       "    }\n",
       "</style>\n",
       "<table border=\"1\" class=\"dataframe\">\n",
       "  <thead>\n",
       "    <tr style=\"text-align: right;\">\n",
       "      <th></th>\n",
       "      <th>year</th>\n",
       "      <th>CSM_winter</th>\n",
       "      <th>CSM_spring</th>\n",
       "      <th>CSM_fall</th>\n",
       "      <th>MUL_winter</th>\n",
       "      <th>MUL_spring</th>\n",
       "      <th>MUL_fall</th>\n",
       "      <th>SDW_winter</th>\n",
       "      <th>SDW_spring</th>\n",
       "      <th>SDW_fall</th>\n",
       "      <th>TJE_winter</th>\n",
       "      <th>TJE_spring</th>\n",
       "      <th>TJE_fall</th>\n",
       "    </tr>\n",
       "  </thead>\n",
       "  <tbody>\n",
       "    <tr>\n",
       "      <th>0</th>\n",
       "      <td>2010</td>\n",
       "      <td>39.0</td>\n",
       "      <td>40.0</td>\n",
       "      <td>50.0</td>\n",
       "      <td>45.0</td>\n",
       "      <td>NaN</td>\n",
       "      <td>61.0</td>\n",
       "      <td>NaN</td>\n",
       "      <td>75.0</td>\n",
       "      <td>85.0</td>\n",
       "      <td>NaN</td>\n",
       "      <td>NaN</td>\n",
       "      <td>81.0</td>\n",
       "    </tr>\n",
       "    <tr>\n",
       "      <th>1</th>\n",
       "      <td>2011</td>\n",
       "      <td>48.0</td>\n",
       "      <td>44.0</td>\n",
       "      <td>NaN</td>\n",
       "      <td>58.0</td>\n",
       "      <td>52.0</td>\n",
       "      <td>NaN</td>\n",
       "      <td>78.0</td>\n",
       "      <td>74.0</td>\n",
       "      <td>NaN</td>\n",
       "      <td>67.0</td>\n",
       "      <td>70.0</td>\n",
       "      <td>NaN</td>\n",
       "    </tr>\n",
       "    <tr>\n",
       "      <th>2</th>\n",
       "      <td>2012</td>\n",
       "      <td>51.0</td>\n",
       "      <td>43.0</td>\n",
       "      <td>49.0</td>\n",
       "      <td>57.0</td>\n",
       "      <td>58.0</td>\n",
       "      <td>53.0</td>\n",
       "      <td>71.0</td>\n",
       "      <td>72.0</td>\n",
       "      <td>73.0</td>\n",
       "      <td>70.0</td>\n",
       "      <td>63.0</td>\n",
       "      <td>69.0</td>\n",
       "    </tr>\n",
       "    <tr>\n",
       "      <th>3</th>\n",
       "      <td>2013</td>\n",
       "      <td>42.0</td>\n",
       "      <td>46.0</td>\n",
       "      <td>38.0</td>\n",
       "      <td>60.0</td>\n",
       "      <td>58.0</td>\n",
       "      <td>62.0</td>\n",
       "      <td>69.0</td>\n",
       "      <td>70.0</td>\n",
       "      <td>70.0</td>\n",
       "      <td>69.0</td>\n",
       "      <td>74.0</td>\n",
       "      <td>64.0</td>\n",
       "    </tr>\n",
       "    <tr>\n",
       "      <th>4</th>\n",
       "      <td>2014</td>\n",
       "      <td>38.0</td>\n",
       "      <td>43.0</td>\n",
       "      <td>45.0</td>\n",
       "      <td>49.0</td>\n",
       "      <td>52.0</td>\n",
       "      <td>57.0</td>\n",
       "      <td>61.0</td>\n",
       "      <td>78.0</td>\n",
       "      <td>71.0</td>\n",
       "      <td>60.0</td>\n",
       "      <td>81.0</td>\n",
       "      <td>62.0</td>\n",
       "    </tr>\n",
       "  </tbody>\n",
       "</table>\n",
       "</div>"
      ],
      "text/plain": [
       "   year  CSM_winter  CSM_spring  CSM_fall  MUL_winter  MUL_spring  MUL_fall  \\\n",
       "0  2010        39.0        40.0      50.0        45.0         NaN      61.0   \n",
       "1  2011        48.0        44.0       NaN        58.0        52.0       NaN   \n",
       "2  2012        51.0        43.0      49.0        57.0        58.0      53.0   \n",
       "3  2013        42.0        46.0      38.0        60.0        58.0      62.0   \n",
       "4  2014        38.0        43.0      45.0        49.0        52.0      57.0   \n",
       "\n",
       "   SDW_winter  SDW_spring  SDW_fall  TJE_winter  TJE_spring  TJE_fall  \n",
       "0         NaN        75.0      85.0         NaN         NaN      81.0  \n",
       "1        78.0        74.0       NaN        67.0        70.0       NaN  \n",
       "2        71.0        72.0      73.0        70.0        63.0      69.0  \n",
       "3        69.0        70.0      70.0        69.0        74.0      64.0  \n",
       "4        61.0        78.0      71.0        60.0        81.0      62.0  "
      ]
     },
     "execution_count": 3,
     "metadata": {},
     "output_type": "execute_result"
    }
   ],
   "source": [
    "import pandas as pd \n",
    "\n",
    "# Read in file, arguement is the fiel path \n",
    "df = pd.read_csv('data/wetlands_seasonal_bird_diversity.csv')\n",
    "\n",
    "# Print data frames first five rows \n",
    "df.head()\n"
   ]
  },
  {
   "cell_type": "code",
   "execution_count": 4,
   "id": "41e52889-14c4-474b-89d9-df01977e5c49",
   "metadata": {
    "tags": []
   },
   "outputs": [
    {
     "data": {
      "text/html": [
       "<div>\n",
       "<style scoped>\n",
       "    .dataframe tbody tr th:only-of-type {\n",
       "        vertical-align: middle;\n",
       "    }\n",
       "\n",
       "    .dataframe tbody tr th {\n",
       "        vertical-align: top;\n",
       "    }\n",
       "\n",
       "    .dataframe thead th {\n",
       "        text-align: right;\n",
       "    }\n",
       "</style>\n",
       "<table border=\"1\" class=\"dataframe\">\n",
       "  <thead>\n",
       "    <tr style=\"text-align: right;\">\n",
       "      <th></th>\n",
       "      <th>year</th>\n",
       "      <th>CSM_winter</th>\n",
       "      <th>CSM_spring</th>\n",
       "      <th>CSM_fall</th>\n",
       "      <th>MUL_winter</th>\n",
       "      <th>MUL_spring</th>\n",
       "      <th>MUL_fall</th>\n",
       "      <th>SDW_winter</th>\n",
       "      <th>SDW_spring</th>\n",
       "      <th>SDW_fall</th>\n",
       "      <th>TJE_winter</th>\n",
       "      <th>TJE_spring</th>\n",
       "      <th>TJE_fall</th>\n",
       "    </tr>\n",
       "  </thead>\n",
       "  <tbody>\n",
       "    <tr>\n",
       "      <th>9</th>\n",
       "      <td>2019</td>\n",
       "      <td>39.0</td>\n",
       "      <td>39.0</td>\n",
       "      <td>40.0</td>\n",
       "      <td>57.0</td>\n",
       "      <td>52.0</td>\n",
       "      <td>53.0</td>\n",
       "      <td>54.0</td>\n",
       "      <td>55.0</td>\n",
       "      <td>53.0</td>\n",
       "      <td>63.0</td>\n",
       "      <td>54.0</td>\n",
       "      <td>50.0</td>\n",
       "    </tr>\n",
       "    <tr>\n",
       "      <th>10</th>\n",
       "      <td>2020</td>\n",
       "      <td>46.0</td>\n",
       "      <td>NaN</td>\n",
       "      <td>47.0</td>\n",
       "      <td>56.0</td>\n",
       "      <td>NaN</td>\n",
       "      <td>66.0</td>\n",
       "      <td>57.0</td>\n",
       "      <td>NaN</td>\n",
       "      <td>58.0</td>\n",
       "      <td>54.0</td>\n",
       "      <td>40.0</td>\n",
       "      <td>54.0</td>\n",
       "    </tr>\n",
       "    <tr>\n",
       "      <th>11</th>\n",
       "      <td>2021</td>\n",
       "      <td>47.0</td>\n",
       "      <td>44.0</td>\n",
       "      <td>53.0</td>\n",
       "      <td>54.0</td>\n",
       "      <td>55.0</td>\n",
       "      <td>60.0</td>\n",
       "      <td>57.0</td>\n",
       "      <td>58.0</td>\n",
       "      <td>57.0</td>\n",
       "      <td>53.0</td>\n",
       "      <td>68.0</td>\n",
       "      <td>51.0</td>\n",
       "    </tr>\n",
       "    <tr>\n",
       "      <th>12</th>\n",
       "      <td>2022</td>\n",
       "      <td>40.0</td>\n",
       "      <td>46.0</td>\n",
       "      <td>49.0</td>\n",
       "      <td>60.0</td>\n",
       "      <td>55.0</td>\n",
       "      <td>65.0</td>\n",
       "      <td>57.0</td>\n",
       "      <td>60.0</td>\n",
       "      <td>57.0</td>\n",
       "      <td>60.0</td>\n",
       "      <td>61.0</td>\n",
       "      <td>60.0</td>\n",
       "    </tr>\n",
       "    <tr>\n",
       "      <th>13</th>\n",
       "      <td>2023</td>\n",
       "      <td>56.0</td>\n",
       "      <td>43.0</td>\n",
       "      <td>36.0</td>\n",
       "      <td>72.0</td>\n",
       "      <td>59.0</td>\n",
       "      <td>53.0</td>\n",
       "      <td>64.0</td>\n",
       "      <td>63.0</td>\n",
       "      <td>33.0</td>\n",
       "      <td>60.0</td>\n",
       "      <td>56.0</td>\n",
       "      <td>38.0</td>\n",
       "    </tr>\n",
       "  </tbody>\n",
       "</table>\n",
       "</div>"
      ],
      "text/plain": [
       "    year  CSM_winter  CSM_spring  CSM_fall  MUL_winter  MUL_spring  MUL_fall  \\\n",
       "9   2019        39.0        39.0      40.0        57.0        52.0      53.0   \n",
       "10  2020        46.0         NaN      47.0        56.0         NaN      66.0   \n",
       "11  2021        47.0        44.0      53.0        54.0        55.0      60.0   \n",
       "12  2022        40.0        46.0      49.0        60.0        55.0      65.0   \n",
       "13  2023        56.0        43.0      36.0        72.0        59.0      53.0   \n",
       "\n",
       "    SDW_winter  SDW_spring  SDW_fall  TJE_winter  TJE_spring  TJE_fall  \n",
       "9         54.0        55.0      53.0        63.0        54.0      50.0  \n",
       "10        57.0         NaN      58.0        54.0        40.0      54.0  \n",
       "11        57.0        58.0      57.0        53.0        68.0      51.0  \n",
       "12        57.0        60.0      57.0        60.0        61.0      60.0  \n",
       "13        64.0        63.0      33.0        60.0        56.0      38.0  "
      ]
     },
     "execution_count": 4,
     "metadata": {},
     "output_type": "execute_result"
    }
   ],
   "source": [
    "# Print data frame last 5 rows \n",
    "df.tail()"
   ]
  },
  {
   "cell_type": "code",
   "execution_count": 5,
   "id": "0ce709d1-d27c-48f3-8552-5ce1ee019039",
   "metadata": {
    "tags": []
   },
   "outputs": [
    {
     "data": {
      "text/plain": [
       "Index(['year', 'CSM_winter', 'CSM_spring', 'CSM_fall', 'MUL_winter',\n",
       "       'MUL_spring', 'MUL_fall', 'SDW_winter', 'SDW_spring', 'SDW_fall',\n",
       "       'TJE_winter', 'TJE_spring', 'TJE_fall'],\n",
       "      dtype='object')"
      ]
     },
     "execution_count": 5,
     "metadata": {},
     "output_type": "execute_result"
    }
   ],
   "source": [
    "# Print data frame's column names \n",
    "df.columns"
   ]
  },
  {
   "cell_type": "code",
   "execution_count": 6,
   "id": "26150ac6-e006-4514-99cb-ddd7a223a1ed",
   "metadata": {
    "tags": []
   },
   "outputs": [
    {
     "data": {
      "text/plain": [
       "year            int64\n",
       "CSM_winter    float64\n",
       "CSM_spring    float64\n",
       "CSM_fall      float64\n",
       "MUL_winter    float64\n",
       "MUL_spring    float64\n",
       "MUL_fall      float64\n",
       "SDW_winter    float64\n",
       "SDW_spring    float64\n",
       "SDW_fall      float64\n",
       "TJE_winter    float64\n",
       "TJE_spring    float64\n",
       "TJE_fall      float64\n",
       "dtype: object"
      ]
     },
     "execution_count": 6,
     "metadata": {},
     "output_type": "execute_result"
    }
   ],
   "source": [
    "# List the data types of each column \n",
    "df.dtypes"
   ]
  },
  {
   "cell_type": "code",
   "execution_count": 7,
   "id": "9dae56e6-cd60-4da0-8b7a-6e1a23a08f5d",
   "metadata": {
    "tags": []
   },
   "outputs": [
    {
     "data": {
      "text/plain": [
       "pandas.core.series.Series"
      ]
     },
     "execution_count": 7,
     "metadata": {},
     "output_type": "execute_result"
    }
   ],
   "source": [
    "type(df.dtypes)"
   ]
  },
  {
   "cell_type": "code",
   "execution_count": 8,
   "id": "bcf80adc-4d60-438e-9432-84b34d8cac67",
   "metadata": {
    "tags": []
   },
   "outputs": [
    {
     "data": {
      "text/plain": [
       "(14, 13)"
      ]
     },
     "execution_count": 8,
     "metadata": {},
     "output_type": "execute_result"
    }
   ],
   "source": [
    "# Print data frame's shape: Output is a tuple(# rows and columns) \n",
    "df.shape"
   ]
  },
  {
   "cell_type": "markdown",
   "id": "caf655c4-a9c2-4b07-bb7f-a4a12a0d6040",
   "metadata": {},
   "source": [
    "## Selecting a single column \n",
    "\n",
    "Simplest case: select a single column by column name \n",
    "\n",
    "General syntax: \n",
    "\n",
    "```\n",
    "df['column_name']\n",
    "```\n",
    "\n",
    "This is an exmaple of **label-base subsetting**. Which means we select data from our data frame using the *names* of the columns *not their position* \n",
    "\n",
    "### Example"
   ]
  },
  {
   "cell_type": "code",
   "execution_count": 10,
   "id": "4a47dc68-a2be-4c3c-a943-f71802cb6a15",
   "metadata": {
    "tags": []
   },
   "outputs": [
    {
     "data": {
      "text/plain": [
       "0      NaN\n",
       "1     52.0\n",
       "2     58.0\n",
       "3     58.0\n",
       "4     52.0\n",
       "5     50.0\n",
       "6     48.0\n",
       "7     54.0\n",
       "8     54.0\n",
       "9     52.0\n",
       "10     NaN\n",
       "11    55.0\n",
       "12    55.0\n",
       "13    59.0\n",
       "Name: MUL_spring, dtype: float64"
      ]
     },
     "execution_count": 10,
     "metadata": {},
     "output_type": "execute_result"
    }
   ],
   "source": [
    "# Select eh number of ird species observed at MUgu lagoon in Spring \n",
    "mul_spring = df[\"MUL_spring\"]\n",
    "\n",
    "mul_spring"
   ]
  },
  {
   "cell_type": "code",
   "execution_count": 11,
   "id": "6a446a5c-8f17-4605-acbf-d4a15c96f23c",
   "metadata": {
    "tags": []
   },
   "outputs": [
    {
     "data": {
      "text/plain": [
       "pandas.core.series.Series"
      ]
     },
     "execution_count": 11,
     "metadata": {},
     "output_type": "execute_result"
    }
   ],
   "source": [
    "type(mul_spring)"
   ]
  },
  {
   "cell_type": "markdown",
   "id": "dd7b8860-2ee9-4333-9ceb-786ebe408a71",
   "metadata": {},
   "source": [
    "We can label base subsetting of a single column using attribute syntax \n",
    "\n",
    "`df.column_name`\n",
    "\n",
    "### Example "
   ]
  },
  {
   "cell_type": "code",
   "execution_count": 12,
   "id": "bbbe8dd4-79dd-40bb-bdde-4c97a849abe8",
   "metadata": {
    "tags": []
   },
   "outputs": [
    {
     "data": {
      "text/plain": [
       "0      NaN\n",
       "1     52.0\n",
       "2     58.0\n",
       "3     58.0\n",
       "4     52.0\n",
       "5     50.0\n",
       "6     48.0\n",
       "7     54.0\n",
       "8     54.0\n",
       "9     52.0\n",
       "10     NaN\n",
       "11    55.0\n",
       "12    55.0\n",
       "13    59.0\n",
       "Name: MUL_spring, dtype: float64"
      ]
     },
     "execution_count": 12,
     "metadata": {},
     "output_type": "execute_result"
    }
   ],
   "source": [
    "df.MUL_spring"
   ]
  },
  {
   "cell_type": "markdown",
   "id": "01603d84-1d08-442f-8f3c-18524374fd28",
   "metadata": {},
   "source": [
    "Favor `df['column_name']` instead of `df.column_name`\n",
    "\n",
    "Why? \n",
    "\n",
    "## Selecting multiple columns:\n",
    "... Using a list og column names. \n",
    "\n",
    "Syntax: \n",
    "```\n",
    "df[ ['column_2', 'column_2'] ]\n",
    "```\n",
    "\n",
    "Notice: there are double square brackets! This is because you are passing a list of names ``['column_2', 'column_2']`  to the selection brakcets `[]`. \n",
    "\n",
    "### Examples"
   ]
  },
  {
   "cell_type": "code",
   "execution_count": 14,
   "id": "bf6f61bd-7052-4ec7-99ce-f5a1e6081d00",
   "metadata": {
    "tags": []
   },
   "outputs": [],
   "source": [
    "# Select species adbundance in Tijuana Estuary during winter and fall \n",
    "\n",
    "tje_wf = df[['TJE_winter', 'TJE_fall']]"
   ]
  },
  {
   "cell_type": "code",
   "execution_count": 17,
   "id": "82c403ae-4a0f-47cc-bcac-39f16dac537f",
   "metadata": {
    "tags": []
   },
   "outputs": [
    {
     "data": {
      "text/plain": [
       "(14, 2)"
      ]
     },
     "execution_count": 17,
     "metadata": {},
     "output_type": "execute_result"
    }
   ],
   "source": [
    "# Check the type of tje_wf \n",
    "type(tje_wf)\n",
    "\n",
    "# Check the shape of the selection \n",
    "tje_wf.shape"
   ]
  },
  {
   "cell_type": "markdown",
   "id": "9af72eab-6ea1-4731-809c-7c19aa14da58",
   "metadata": {},
   "source": [
    "## ... using a slice \n",
    "\n",
    "To select a slice of the columns we will use a special case of `loc` selection. \n",
    "\n",
    "Syntac: \n",
    "```\n",
    "df.loc[:, \"column_start\":\"column_end\"]\n",
    "```\n",
    "\n",
    "`column_start` and `column_end` = starting and ending point of the column slice includes both endpoints. \n",
    "\n",
    "- the first value has to 'loc' is used to sele t rwos, using `:` as the row selection parameter means \"select all the rows\". \n",
    "\n",
    "## Example "
   ]
  },
  {
   "cell_type": "code",
   "execution_count": 19,
   "id": "3bd1c399-7b7a-482c-a08c-34694da209e9",
   "metadata": {
    "tags": []
   },
   "outputs": [
    {
     "data": {
      "text/html": [
       "<div>\n",
       "<style scoped>\n",
       "    .dataframe tbody tr th:only-of-type {\n",
       "        vertical-align: middle;\n",
       "    }\n",
       "\n",
       "    .dataframe tbody tr th {\n",
       "        vertical-align: top;\n",
       "    }\n",
       "\n",
       "    .dataframe thead th {\n",
       "        text-align: right;\n",
       "    }\n",
       "</style>\n",
       "<table border=\"1\" class=\"dataframe\">\n",
       "  <thead>\n",
       "    <tr style=\"text-align: right;\">\n",
       "      <th></th>\n",
       "      <th>CSM_winter</th>\n",
       "      <th>CSM_spring</th>\n",
       "      <th>CSM_fall</th>\n",
       "      <th>MUL_winter</th>\n",
       "      <th>MUL_spring</th>\n",
       "      <th>MUL_fall</th>\n",
       "    </tr>\n",
       "  </thead>\n",
       "  <tbody>\n",
       "    <tr>\n",
       "      <th>0</th>\n",
       "      <td>39.0</td>\n",
       "      <td>40.0</td>\n",
       "      <td>50.0</td>\n",
       "      <td>45.0</td>\n",
       "      <td>NaN</td>\n",
       "      <td>61.0</td>\n",
       "    </tr>\n",
       "    <tr>\n",
       "      <th>1</th>\n",
       "      <td>48.0</td>\n",
       "      <td>44.0</td>\n",
       "      <td>NaN</td>\n",
       "      <td>58.0</td>\n",
       "      <td>52.0</td>\n",
       "      <td>NaN</td>\n",
       "    </tr>\n",
       "    <tr>\n",
       "      <th>2</th>\n",
       "      <td>51.0</td>\n",
       "      <td>43.0</td>\n",
       "      <td>49.0</td>\n",
       "      <td>57.0</td>\n",
       "      <td>58.0</td>\n",
       "      <td>53.0</td>\n",
       "    </tr>\n",
       "    <tr>\n",
       "      <th>3</th>\n",
       "      <td>42.0</td>\n",
       "      <td>46.0</td>\n",
       "      <td>38.0</td>\n",
       "      <td>60.0</td>\n",
       "      <td>58.0</td>\n",
       "      <td>62.0</td>\n",
       "    </tr>\n",
       "    <tr>\n",
       "      <th>4</th>\n",
       "      <td>38.0</td>\n",
       "      <td>43.0</td>\n",
       "      <td>45.0</td>\n",
       "      <td>49.0</td>\n",
       "      <td>52.0</td>\n",
       "      <td>57.0</td>\n",
       "    </tr>\n",
       "  </tbody>\n",
       "</table>\n",
       "</div>"
      ],
      "text/plain": [
       "   CSM_winter  CSM_spring  CSM_fall  MUL_winter  MUL_spring  MUL_fall\n",
       "0        39.0        40.0      50.0        45.0         NaN      61.0\n",
       "1        48.0        44.0       NaN        58.0        52.0       NaN\n",
       "2        51.0        43.0      49.0        57.0        58.0      53.0\n",
       "3        42.0        46.0      38.0        60.0        58.0      62.0\n",
       "4        38.0        43.0      45.0        49.0        52.0      57.0"
      ]
     },
     "execution_count": 19,
     "metadata": {},
     "output_type": "execute_result"
    }
   ],
   "source": [
    "# Select columns between CSM_winter and MUL_fall \n",
    "csm_mul = df.loc[:, \"CSM_winter\":\"MUL_fall\"]\n",
    "csm_mul.head()"
   ]
  },
  {
   "cell_type": "markdown",
   "id": "04dcb196-d080-45e6-bbf2-6a976a1435ce",
   "metadata": {},
   "source": [
    "# Selecting rows... \n",
    "\n",
    "## ... using a condition \n",
    "\n",
    "Syntax: \n",
    "```\n",
    "df[condition_on_rows]\n",
    "```\n",
    "\n",
    "That `condution_on_rows` can be many things \n",
    "\n",
    "### Example \n",
    "\n",
    "We are interested in all data after 2020 \n"
   ]
  },
  {
   "cell_type": "code",
   "execution_count": 20,
   "id": "1dccfaa6-8de4-4200-b80b-39ff3280cc65",
   "metadata": {
    "tags": []
   },
   "outputs": [
    {
     "data": {
      "text/html": [
       "<div>\n",
       "<style scoped>\n",
       "    .dataframe tbody tr th:only-of-type {\n",
       "        vertical-align: middle;\n",
       "    }\n",
       "\n",
       "    .dataframe tbody tr th {\n",
       "        vertical-align: top;\n",
       "    }\n",
       "\n",
       "    .dataframe thead th {\n",
       "        text-align: right;\n",
       "    }\n",
       "</style>\n",
       "<table border=\"1\" class=\"dataframe\">\n",
       "  <thead>\n",
       "    <tr style=\"text-align: right;\">\n",
       "      <th></th>\n",
       "      <th>year</th>\n",
       "      <th>CSM_winter</th>\n",
       "      <th>CSM_spring</th>\n",
       "      <th>CSM_fall</th>\n",
       "      <th>MUL_winter</th>\n",
       "      <th>MUL_spring</th>\n",
       "      <th>MUL_fall</th>\n",
       "      <th>SDW_winter</th>\n",
       "      <th>SDW_spring</th>\n",
       "      <th>SDW_fall</th>\n",
       "      <th>TJE_winter</th>\n",
       "      <th>TJE_spring</th>\n",
       "      <th>TJE_fall</th>\n",
       "    </tr>\n",
       "  </thead>\n",
       "  <tbody>\n",
       "    <tr>\n",
       "      <th>11</th>\n",
       "      <td>2021</td>\n",
       "      <td>47.0</td>\n",
       "      <td>44.0</td>\n",
       "      <td>53.0</td>\n",
       "      <td>54.0</td>\n",
       "      <td>55.0</td>\n",
       "      <td>60.0</td>\n",
       "      <td>57.0</td>\n",
       "      <td>58.0</td>\n",
       "      <td>57.0</td>\n",
       "      <td>53.0</td>\n",
       "      <td>68.0</td>\n",
       "      <td>51.0</td>\n",
       "    </tr>\n",
       "    <tr>\n",
       "      <th>12</th>\n",
       "      <td>2022</td>\n",
       "      <td>40.0</td>\n",
       "      <td>46.0</td>\n",
       "      <td>49.0</td>\n",
       "      <td>60.0</td>\n",
       "      <td>55.0</td>\n",
       "      <td>65.0</td>\n",
       "      <td>57.0</td>\n",
       "      <td>60.0</td>\n",
       "      <td>57.0</td>\n",
       "      <td>60.0</td>\n",
       "      <td>61.0</td>\n",
       "      <td>60.0</td>\n",
       "    </tr>\n",
       "    <tr>\n",
       "      <th>13</th>\n",
       "      <td>2023</td>\n",
       "      <td>56.0</td>\n",
       "      <td>43.0</td>\n",
       "      <td>36.0</td>\n",
       "      <td>72.0</td>\n",
       "      <td>59.0</td>\n",
       "      <td>53.0</td>\n",
       "      <td>64.0</td>\n",
       "      <td>63.0</td>\n",
       "      <td>33.0</td>\n",
       "      <td>60.0</td>\n",
       "      <td>56.0</td>\n",
       "      <td>38.0</td>\n",
       "    </tr>\n",
       "  </tbody>\n",
       "</table>\n",
       "</div>"
      ],
      "text/plain": [
       "    year  CSM_winter  CSM_spring  CSM_fall  MUL_winter  MUL_spring  MUL_fall  \\\n",
       "11  2021        47.0        44.0      53.0        54.0        55.0      60.0   \n",
       "12  2022        40.0        46.0      49.0        60.0        55.0      65.0   \n",
       "13  2023        56.0        43.0      36.0        72.0        59.0      53.0   \n",
       "\n",
       "    SDW_winter  SDW_spring  SDW_fall  TJE_winter  TJE_spring  TJE_fall  \n",
       "11        57.0        58.0      57.0        53.0        68.0      51.0  \n",
       "12        57.0        60.0      57.0        60.0        61.0      60.0  \n",
       "13        64.0        63.0      33.0        60.0        56.0      38.0  "
      ]
     },
     "execution_count": 20,
     "metadata": {},
     "output_type": "execute_result"
    }
   ],
   "source": [
    "# Select all rows with year > 2020 \n",
    "df[df['year'] > 2020]"
   ]
  },
  {
   "cell_type": "markdown",
   "id": "6614bda3-ae92-46bb-ad5d-1abe452355a3",
   "metadata": {
    "tags": []
   },
   "source": [
    "Condition for our rows = `df['year'] > 2020` this is a pandas series with **boolean values** (True or False) \n",
    "Indicates which rows satisfy the condition year > 2020\n"
   ]
  },
  {
   "cell_type": "code",
   "execution_count": 25,
   "id": "7d154071-6206-49cf-8d79-d6d681252e40",
   "metadata": {
    "tags": []
   },
   "outputs": [
    {
     "name": "stdout",
     "output_type": "stream",
     "text": [
      "<class 'pandas.core.series.Series'>\n"
     ]
    },
    {
     "data": {
      "text/plain": [
       "0     False\n",
       "1     False\n",
       "2     False\n",
       "3     False\n",
       "4     False\n",
       "5     False\n",
       "6     False\n",
       "7     False\n",
       "8     False\n",
       "9     False\n",
       "10    False\n",
       "11     True\n",
       "12     True\n",
       "13     True\n",
       "Name: year, dtype: bool"
      ]
     },
     "execution_count": 25,
     "metadata": {},
     "output_type": "execute_result"
    }
   ],
   "source": [
    "# Check the type of df['year'] > 2020 \n",
    "print(type(df['year'] > 2020))\n",
    "\n",
    "# Print boolean series \n",
    "df['year'] > 2020"
   ]
  },
  {
   "cell_type": "markdown",
   "id": "0f19f527-b624-41ea-b8b1-47f92e4dd1b3",
   "metadata": {},
   "source": [
    "### Check-in \n",
    "\n",
    "Get the subset of the dataframe on which the San Dieguito Wetland has at least 75 species reported during spring. \n"
   ]
  },
  {
   "cell_type": "code",
   "execution_count": 35,
   "id": "e20c5391-e1cb-4955-b189-b0878be92a17",
   "metadata": {
    "tags": []
   },
   "outputs": [
    {
     "data": {
      "text/html": [
       "<div>\n",
       "<style scoped>\n",
       "    .dataframe tbody tr th:only-of-type {\n",
       "        vertical-align: middle;\n",
       "    }\n",
       "\n",
       "    .dataframe tbody tr th {\n",
       "        vertical-align: top;\n",
       "    }\n",
       "\n",
       "    .dataframe thead th {\n",
       "        text-align: right;\n",
       "    }\n",
       "</style>\n",
       "<table border=\"1\" class=\"dataframe\">\n",
       "  <thead>\n",
       "    <tr style=\"text-align: right;\">\n",
       "      <th></th>\n",
       "      <th>year</th>\n",
       "      <th>CSM_winter</th>\n",
       "      <th>CSM_spring</th>\n",
       "      <th>CSM_fall</th>\n",
       "      <th>MUL_winter</th>\n",
       "      <th>MUL_spring</th>\n",
       "      <th>MUL_fall</th>\n",
       "      <th>SDW_winter</th>\n",
       "      <th>SDW_spring</th>\n",
       "      <th>SDW_fall</th>\n",
       "      <th>TJE_winter</th>\n",
       "      <th>TJE_spring</th>\n",
       "      <th>TJE_fall</th>\n",
       "    </tr>\n",
       "  </thead>\n",
       "  <tbody>\n",
       "    <tr>\n",
       "      <th>0</th>\n",
       "      <td>2010</td>\n",
       "      <td>39.0</td>\n",
       "      <td>40.0</td>\n",
       "      <td>50.0</td>\n",
       "      <td>45.0</td>\n",
       "      <td>NaN</td>\n",
       "      <td>61.0</td>\n",
       "      <td>NaN</td>\n",
       "      <td>75.0</td>\n",
       "      <td>85.0</td>\n",
       "      <td>NaN</td>\n",
       "      <td>NaN</td>\n",
       "      <td>81.0</td>\n",
       "    </tr>\n",
       "    <tr>\n",
       "      <th>4</th>\n",
       "      <td>2014</td>\n",
       "      <td>38.0</td>\n",
       "      <td>43.0</td>\n",
       "      <td>45.0</td>\n",
       "      <td>49.0</td>\n",
       "      <td>52.0</td>\n",
       "      <td>57.0</td>\n",
       "      <td>61.0</td>\n",
       "      <td>78.0</td>\n",
       "      <td>71.0</td>\n",
       "      <td>60.0</td>\n",
       "      <td>81.0</td>\n",
       "      <td>62.0</td>\n",
       "    </tr>\n",
       "  </tbody>\n",
       "</table>\n",
       "</div>"
      ],
      "text/plain": [
       "   year  CSM_winter  CSM_spring  CSM_fall  MUL_winter  MUL_spring  MUL_fall  \\\n",
       "0  2010        39.0        40.0      50.0        45.0         NaN      61.0   \n",
       "4  2014        38.0        43.0      45.0        49.0        52.0      57.0   \n",
       "\n",
       "   SDW_winter  SDW_spring  SDW_fall  TJE_winter  TJE_spring  TJE_fall  \n",
       "0         NaN        75.0      85.0         NaN         NaN      81.0  \n",
       "4        61.0        78.0      71.0        60.0        81.0      62.0  "
      ]
     },
     "execution_count": 35,
     "metadata": {},
     "output_type": "execute_result"
    }
   ],
   "source": [
    "df[df['SDW_spring']>=75]"
   ]
  },
  {
   "cell_type": "markdown",
   "id": "c5342456-f5a1-422d-8bfa-6101adb38c3f",
   "metadata": {
    "tags": []
   },
   "source": [
    "### Example\n",
    "Suppose we want to look at data from 2012 to 2015 (including both years).\n"
   ]
  },
  {
   "cell_type": "code",
   "execution_count": 38,
   "id": "8a70d5ff-4db3-4d3f-8161-185682964d28",
   "metadata": {
    "tags": []
   },
   "outputs": [
    {
     "data": {
      "text/html": [
       "<div>\n",
       "<style scoped>\n",
       "    .dataframe tbody tr th:only-of-type {\n",
       "        vertical-align: middle;\n",
       "    }\n",
       "\n",
       "    .dataframe tbody tr th {\n",
       "        vertical-align: top;\n",
       "    }\n",
       "\n",
       "    .dataframe thead th {\n",
       "        text-align: right;\n",
       "    }\n",
       "</style>\n",
       "<table border=\"1\" class=\"dataframe\">\n",
       "  <thead>\n",
       "    <tr style=\"text-align: right;\">\n",
       "      <th></th>\n",
       "      <th>year</th>\n",
       "      <th>CSM_winter</th>\n",
       "      <th>CSM_spring</th>\n",
       "      <th>CSM_fall</th>\n",
       "      <th>MUL_winter</th>\n",
       "      <th>MUL_spring</th>\n",
       "      <th>MUL_fall</th>\n",
       "      <th>SDW_winter</th>\n",
       "      <th>SDW_spring</th>\n",
       "      <th>SDW_fall</th>\n",
       "      <th>TJE_winter</th>\n",
       "      <th>TJE_spring</th>\n",
       "      <th>TJE_fall</th>\n",
       "    </tr>\n",
       "  </thead>\n",
       "  <tbody>\n",
       "    <tr>\n",
       "      <th>2</th>\n",
       "      <td>2012</td>\n",
       "      <td>51.0</td>\n",
       "      <td>43.0</td>\n",
       "      <td>49.0</td>\n",
       "      <td>57.0</td>\n",
       "      <td>58.0</td>\n",
       "      <td>53.0</td>\n",
       "      <td>71.0</td>\n",
       "      <td>72.0</td>\n",
       "      <td>73.0</td>\n",
       "      <td>70.0</td>\n",
       "      <td>63.0</td>\n",
       "      <td>69.0</td>\n",
       "    </tr>\n",
       "    <tr>\n",
       "      <th>3</th>\n",
       "      <td>2013</td>\n",
       "      <td>42.0</td>\n",
       "      <td>46.0</td>\n",
       "      <td>38.0</td>\n",
       "      <td>60.0</td>\n",
       "      <td>58.0</td>\n",
       "      <td>62.0</td>\n",
       "      <td>69.0</td>\n",
       "      <td>70.0</td>\n",
       "      <td>70.0</td>\n",
       "      <td>69.0</td>\n",
       "      <td>74.0</td>\n",
       "      <td>64.0</td>\n",
       "    </tr>\n",
       "    <tr>\n",
       "      <th>4</th>\n",
       "      <td>2014</td>\n",
       "      <td>38.0</td>\n",
       "      <td>43.0</td>\n",
       "      <td>45.0</td>\n",
       "      <td>49.0</td>\n",
       "      <td>52.0</td>\n",
       "      <td>57.0</td>\n",
       "      <td>61.0</td>\n",
       "      <td>78.0</td>\n",
       "      <td>71.0</td>\n",
       "      <td>60.0</td>\n",
       "      <td>81.0</td>\n",
       "      <td>62.0</td>\n",
       "    </tr>\n",
       "    <tr>\n",
       "      <th>5</th>\n",
       "      <td>2015</td>\n",
       "      <td>44.0</td>\n",
       "      <td>42.0</td>\n",
       "      <td>45.0</td>\n",
       "      <td>58.0</td>\n",
       "      <td>50.0</td>\n",
       "      <td>51.0</td>\n",
       "      <td>71.0</td>\n",
       "      <td>61.0</td>\n",
       "      <td>65.0</td>\n",
       "      <td>73.0</td>\n",
       "      <td>76.0</td>\n",
       "      <td>64.0</td>\n",
       "    </tr>\n",
       "  </tbody>\n",
       "</table>\n",
       "</div>"
      ],
      "text/plain": [
       "   year  CSM_winter  CSM_spring  CSM_fall  MUL_winter  MUL_spring  MUL_fall  \\\n",
       "2  2012        51.0        43.0      49.0        57.0        58.0      53.0   \n",
       "3  2013        42.0        46.0      38.0        60.0        58.0      62.0   \n",
       "4  2014        38.0        43.0      45.0        49.0        52.0      57.0   \n",
       "5  2015        44.0        42.0      45.0        58.0        50.0      51.0   \n",
       "\n",
       "   SDW_winter  SDW_spring  SDW_fall  TJE_winter  TJE_spring  TJE_fall  \n",
       "2        71.0        72.0      73.0        70.0        63.0      69.0  \n",
       "3        69.0        70.0      70.0        69.0        74.0      64.0  \n",
       "4        61.0        78.0      71.0        60.0        81.0      62.0  \n",
       "5        71.0        61.0      65.0        73.0        76.0      64.0  "
      ]
     },
     "execution_count": 38,
     "metadata": {},
     "output_type": "execute_result"
    }
   ],
   "source": [
    "subset = df[df['year'].between(2012, 2015)]\n",
    "subset"
   ]
  },
  {
   "cell_type": "markdown",
   "id": "f4868723-2219-4bf7-bcc7-4f8cb162ad45",
   "metadata": {},
   "source": [
    "- `df['year']` = column with year values, this a `pandas.Series`\n",
    "\n",
    "- `df[\"year\"].between()` we have that between() is amthod for the pandas series \n",
    "- (2012, 2015): parameters. If we look at the documentation we can see the methods inldudes both end points \n",
    "- `df['year'].between(2012,2015)` = a pandas.series of boolean values indicating which rows haev year equal to those years \n",
    "- when you put `df[year].between(2012,2015)` in the selection brackets, we obtains the rows we need. \n",
    "\n",
    "## Avoid using `loc` for selecting only rows \n",
    "\n",
    "It is equalvalent to writing \n",
    "\n",
    "```\n",
    "# Select rows with year < 2015\n",
    "df[df['year']<2015]\n",
    "```\n",
    "\n",
    "and \n",
    "\n",
    "```\n",
    "df.loc[df['year']<2015, :]\n",
    "```\n",
    "\n",
    "In the second one \n",
    "-using `df.loc[row-selection, column-selection]`\n",
    "- the row selection is the condition `df['year']<2015`\n",
    "- The columns selection is `:` = all columns \n",
    "\n",
    "\n",
    "## ... using multiple conditions \n",
    "We can combine conditions to select rows by surrounding each in parenthesis and using the or '|' operation and '&' operator. \n",
    "\n",
    "### Example: or \n"
   ]
  },
  {
   "cell_type": "code",
   "execution_count": 44,
   "id": "87fcacb7-c280-4720-979a-daf0119f6d37",
   "metadata": {
    "tags": []
   },
   "outputs": [
    {
     "data": {
      "text/html": [
       "<div>\n",
       "<style scoped>\n",
       "    .dataframe tbody tr th:only-of-type {\n",
       "        vertical-align: middle;\n",
       "    }\n",
       "\n",
       "    .dataframe tbody tr th {\n",
       "        vertical-align: top;\n",
       "    }\n",
       "\n",
       "    .dataframe thead th {\n",
       "        text-align: right;\n",
       "    }\n",
       "</style>\n",
       "<table border=\"1\" class=\"dataframe\">\n",
       "  <thead>\n",
       "    <tr style=\"text-align: right;\">\n",
       "      <th></th>\n",
       "      <th>year</th>\n",
       "      <th>CSM_winter</th>\n",
       "      <th>CSM_spring</th>\n",
       "      <th>CSM_fall</th>\n",
       "      <th>MUL_winter</th>\n",
       "      <th>MUL_spring</th>\n",
       "      <th>MUL_fall</th>\n",
       "      <th>SDW_winter</th>\n",
       "      <th>SDW_spring</th>\n",
       "      <th>SDW_fall</th>\n",
       "      <th>TJE_winter</th>\n",
       "      <th>TJE_spring</th>\n",
       "      <th>TJE_fall</th>\n",
       "    </tr>\n",
       "  </thead>\n",
       "  <tbody>\n",
       "    <tr>\n",
       "      <th>2</th>\n",
       "      <td>2012</td>\n",
       "      <td>51.0</td>\n",
       "      <td>43.0</td>\n",
       "      <td>49.0</td>\n",
       "      <td>57.0</td>\n",
       "      <td>58.0</td>\n",
       "      <td>53.0</td>\n",
       "      <td>71.0</td>\n",
       "      <td>72.0</td>\n",
       "      <td>73.0</td>\n",
       "      <td>70.0</td>\n",
       "      <td>63.0</td>\n",
       "      <td>69.0</td>\n",
       "    </tr>\n",
       "    <tr>\n",
       "      <th>11</th>\n",
       "      <td>2021</td>\n",
       "      <td>47.0</td>\n",
       "      <td>44.0</td>\n",
       "      <td>53.0</td>\n",
       "      <td>54.0</td>\n",
       "      <td>55.0</td>\n",
       "      <td>60.0</td>\n",
       "      <td>57.0</td>\n",
       "      <td>58.0</td>\n",
       "      <td>57.0</td>\n",
       "      <td>53.0</td>\n",
       "      <td>68.0</td>\n",
       "      <td>51.0</td>\n",
       "    </tr>\n",
       "    <tr>\n",
       "      <th>13</th>\n",
       "      <td>2023</td>\n",
       "      <td>56.0</td>\n",
       "      <td>43.0</td>\n",
       "      <td>36.0</td>\n",
       "      <td>72.0</td>\n",
       "      <td>59.0</td>\n",
       "      <td>53.0</td>\n",
       "      <td>64.0</td>\n",
       "      <td>63.0</td>\n",
       "      <td>33.0</td>\n",
       "      <td>60.0</td>\n",
       "      <td>56.0</td>\n",
       "      <td>38.0</td>\n",
       "    </tr>\n",
       "  </tbody>\n",
       "</table>\n",
       "</div>"
      ],
      "text/plain": [
       "    year  CSM_winter  CSM_spring  CSM_fall  MUL_winter  MUL_spring  MUL_fall  \\\n",
       "2   2012        51.0        43.0      49.0        57.0        58.0      53.0   \n",
       "11  2021        47.0        44.0      53.0        54.0        55.0      60.0   \n",
       "13  2023        56.0        43.0      36.0        72.0        59.0      53.0   \n",
       "\n",
       "    SDW_winter  SDW_spring  SDW_fall  TJE_winter  TJE_spring  TJE_fall  \n",
       "2         71.0        72.0      73.0        70.0        63.0      69.0  \n",
       "11        57.0        58.0      57.0        53.0        68.0      51.0  \n",
       "13        64.0        63.0      33.0        60.0        56.0      38.0  "
      ]
     },
     "execution_count": 44,
     "metadata": {},
     "output_type": "execute_result"
    }
   ],
   "source": [
    "# Select rows in CSM with more than 50 species in winter or fall \n",
    "df[(df['CSM_winter']>50) | (df['CSM_fall']>50)]"
   ]
  },
  {
   "cell_type": "code",
   "execution_count": 45,
   "id": "b86c80cb-0f87-4c1f-9a12-6bf053244f34",
   "metadata": {
    "tags": []
   },
   "outputs": [
    {
     "data": {
      "text/html": [
       "<div>\n",
       "<style scoped>\n",
       "    .dataframe tbody tr th:only-of-type {\n",
       "        vertical-align: middle;\n",
       "    }\n",
       "\n",
       "    .dataframe tbody tr th {\n",
       "        vertical-align: top;\n",
       "    }\n",
       "\n",
       "    .dataframe thead th {\n",
       "        text-align: right;\n",
       "    }\n",
       "</style>\n",
       "<table border=\"1\" class=\"dataframe\">\n",
       "  <thead>\n",
       "    <tr style=\"text-align: right;\">\n",
       "      <th></th>\n",
       "      <th>year</th>\n",
       "      <th>CSM_winter</th>\n",
       "      <th>CSM_spring</th>\n",
       "      <th>CSM_fall</th>\n",
       "      <th>MUL_winter</th>\n",
       "      <th>MUL_spring</th>\n",
       "      <th>MUL_fall</th>\n",
       "      <th>SDW_winter</th>\n",
       "      <th>SDW_spring</th>\n",
       "      <th>SDW_fall</th>\n",
       "      <th>TJE_winter</th>\n",
       "      <th>TJE_spring</th>\n",
       "      <th>TJE_fall</th>\n",
       "    </tr>\n",
       "  </thead>\n",
       "  <tbody>\n",
       "  </tbody>\n",
       "</table>\n",
       "</div>"
      ],
      "text/plain": [
       "Empty DataFrame\n",
       "Columns: [year, CSM_winter, CSM_spring, CSM_fall, MUL_winter, MUL_spring, MUL_fall, SDW_winter, SDW_spring, SDW_fall, TJE_winter, TJE_spring, TJE_fall]\n",
       "Index: []"
      ]
     },
     "execution_count": 45,
     "metadata": {},
     "output_type": "execute_result"
    }
   ],
   "source": [
    "df[(df[\"CSM_spring\"]>60) & (df[\"SDW_spring\"]>60)]"
   ]
  },
  {
   "cell_type": "code",
   "execution_count": null,
   "id": "4ac9c898-2dc9-4749-a9b7-deb92fb2c093",
   "metadata": {},
   "outputs": [],
   "source": []
  }
 ],
 "metadata": {
  "kernelspec": {
   "display_name": "EDS220",
   "language": "python",
   "name": "eds220-env"
  },
  "language_info": {
   "codemirror_mode": {
    "name": "ipython",
    "version": 3
   },
   "file_extension": ".py",
   "mimetype": "text/x-python",
   "name": "python",
   "nbconvert_exporter": "python",
   "pygments_lexer": "ipython3",
   "version": "3.11.4"
  }
 },
 "nbformat": 4,
 "nbformat_minor": 5
}
