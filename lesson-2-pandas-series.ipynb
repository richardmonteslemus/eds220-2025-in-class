{
 "cells": [
  {
   "cell_type": "markdown",
   "id": "2d0a6e50-7a56-40d4-a107-91da94f68cf7",
   "metadata": {
    "tags": []
   },
   "source": [
    "# Check-in 1"
   ]
  },
  {
   "cell_type": "markdown",
   "id": "5e986a4c-a650-478e-b39a-c0a41178b937",
   "metadata": {
    "tags": []
   },
   "source": [
    "Question 1:"
   ]
  },
  {
   "cell_type": "code",
   "execution_count": 2,
   "id": "001b83e2-b8a6-4a24-838f-28784f331d1e",
   "metadata": {
    "tags": []
   },
   "outputs": [],
   "source": [
    "import  pandas as pd \n",
    "import numpy as np \n",
    "\n"
   ]
  },
  {
   "cell_type": "code",
   "execution_count": 5,
   "id": "7064fcb9-9025-44fc-b5c3-29195885334b",
   "metadata": {
    "tags": []
   },
   "outputs": [
    {
     "data": {
      "text/plain": [
       "A     12\n",
       "B   -999\n",
       "C     45\n",
       "D   -999\n",
       "dtype: int64"
      ]
     },
     "execution_count": 5,
     "metadata": {},
     "output_type": "execute_result"
    }
   ],
   "source": [
    "# Create a pandas series\n",
    "s = pd.Series([12, -999, 45, -999], index=['A', 'B', 'C', 'D'])\n",
    "s"
   ]
  },
  {
   "cell_type": "code",
   "execution_count": 6,
   "id": "a579e247-aa0a-4706-b6bf-555822bc1e24",
   "metadata": {
    "tags": []
   },
   "outputs": [
    {
     "data": {
      "text/plain": [
       "pandas.core.series.Series"
      ]
     },
     "execution_count": 6,
     "metadata": {},
     "output_type": "execute_result"
    }
   ],
   "source": [
    "type(s)"
   ]
  },
  {
   "cell_type": "code",
   "execution_count": 15,
   "id": "cffe3bb7-294d-4415-a3e0-f9894185ee42",
   "metadata": {
    "tags": []
   },
   "outputs": [
    {
     "data": {
      "text/plain": [
       "A    12.0\n",
       "B     NaN\n",
       "C    45.0\n",
       "D     NaN\n",
       "dtype: float64"
      ]
     },
     "execution_count": 15,
     "metadata": {},
     "output_type": "execute_result"
    }
   ],
   "source": [
    "# Check mask documentation\n",
    "\n",
    "# Mask -999 values in s with default NaN value\n",
    "s = s.mask(s == -999) # it returns the value to us \n",
    "\n",
    "# Modifying in place\n",
    "# s.mask(s==-999, inplace=True)"
   ]
  },
  {
   "cell_type": "markdown",
   "id": "847401ff-08fc-4b19-ac62-58ddb26bcbd6",
   "metadata": {
    "tags": []
   },
   "source": [
    "# Check in 2: "
   ]
  },
  {
   "cell_type": "code",
   "execution_count": 20,
   "id": "b3c46f26-d1a3-49e8-93c6-17944e7bae55",
   "metadata": {
    "tags": []
   },
   "outputs": [],
   "source": [
    "# Make a data frame \n",
    "d = {'col_name_1': pd.Series(np.arange(3)),\n",
    "    'col_name_2' : pd.Series([3.1, 3.2, 3.3])}\n",
    "\n",
    "# A dictionary of lists"
   ]
  },
  {
   "cell_type": "code",
   "execution_count": 23,
   "id": "baf5d49a-eb1c-4f98-bd38-0e088b70f083",
   "metadata": {
    "tags": []
   },
   "outputs": [
    {
     "data": {
      "text/html": [
       "<div>\n",
       "<style scoped>\n",
       "    .dataframe tbody tr th:only-of-type {\n",
       "        vertical-align: middle;\n",
       "    }\n",
       "\n",
       "    .dataframe tbody tr th {\n",
       "        vertical-align: top;\n",
       "    }\n",
       "\n",
       "    .dataframe thead th {\n",
       "        text-align: right;\n",
       "    }\n",
       "</style>\n",
       "<table border=\"1\" class=\"dataframe\">\n",
       "  <thead>\n",
       "    <tr style=\"text-align: right;\">\n",
       "      <th></th>\n",
       "      <th>col_name_1</th>\n",
       "      <th>col_name_2</th>\n",
       "    </tr>\n",
       "  </thead>\n",
       "  <tbody>\n",
       "    <tr>\n",
       "      <th>0</th>\n",
       "      <td>0</td>\n",
       "      <td>3.1</td>\n",
       "    </tr>\n",
       "    <tr>\n",
       "      <th>1</th>\n",
       "      <td>1</td>\n",
       "      <td>3.2</td>\n",
       "    </tr>\n",
       "    <tr>\n",
       "      <th>2</th>\n",
       "      <td>2</td>\n",
       "      <td>3.3</td>\n",
       "    </tr>\n",
       "  </tbody>\n",
       "</table>\n",
       "</div>"
      ],
      "text/plain": [
       "   col_name_1  col_name_2\n",
       "0           0         3.1\n",
       "1           1         3.2\n",
       "2           2         3.3"
      ]
     },
     "execution_count": 23,
     "metadata": {},
     "output_type": "execute_result"
    }
   ],
   "source": [
    "df = pd.DataFrame(d)\n",
    "df"
   ]
  },
  {
   "cell_type": "code",
   "execution_count": 27,
   "id": "23d00183-3cab-441c-90f3-5f4aa8418f14",
   "metadata": {
    "tags": []
   },
   "outputs": [
    {
     "data": {
      "text/html": [
       "<div>\n",
       "<style scoped>\n",
       "    .dataframe tbody tr th:only-of-type {\n",
       "        vertical-align: middle;\n",
       "    }\n",
       "\n",
       "    .dataframe tbody tr th {\n",
       "        vertical-align: top;\n",
       "    }\n",
       "\n",
       "    .dataframe thead th {\n",
       "        text-align: right;\n",
       "    }\n",
       "</style>\n",
       "<table border=\"1\" class=\"dataframe\">\n",
       "  <thead>\n",
       "    <tr style=\"text-align: right;\">\n",
       "      <th></th>\n",
       "      <th>C1</th>\n",
       "      <th>C2</th>\n",
       "    </tr>\n",
       "  </thead>\n",
       "  <tbody>\n",
       "    <tr>\n",
       "      <th>0</th>\n",
       "      <td>0</td>\n",
       "      <td>3.1</td>\n",
       "    </tr>\n",
       "    <tr>\n",
       "      <th>1</th>\n",
       "      <td>1</td>\n",
       "      <td>3.2</td>\n",
       "    </tr>\n",
       "    <tr>\n",
       "      <th>2</th>\n",
       "      <td>2</td>\n",
       "      <td>3.3</td>\n",
       "    </tr>\n",
       "  </tbody>\n",
       "</table>\n",
       "</div>"
      ],
      "text/plain": [
       "   C1   C2\n",
       "0   0  3.1\n",
       "1   1  3.2\n",
       "2   2  3.3"
      ]
     },
     "execution_count": 27,
     "metadata": {},
     "output_type": "execute_result"
    }
   ],
   "source": [
    "# Use .columns attribue to rename columns\n",
    "df.columns = ['C1', 'C2']\n",
    "df"
   ]
  },
  {
   "cell_type": "code",
   "execution_count": null,
   "id": "df25d3d6-4451-4051-a1df-2f5e856a39c9",
   "metadata": {},
   "outputs": [],
   "source": []
  }
 ],
 "metadata": {
  "kernelspec": {
   "display_name": "EDS220",
   "language": "python",
   "name": "eds220-env"
  },
  "language_info": {
   "codemirror_mode": {
    "name": "ipython",
    "version": 3
   },
   "file_extension": ".py",
   "mimetype": "text/x-python",
   "name": "python",
   "nbconvert_exporter": "python",
   "pygments_lexer": "ipython3",
   "version": "3.11.4"
  }
 },
 "nbformat": 4,
 "nbformat_minor": 5
}
